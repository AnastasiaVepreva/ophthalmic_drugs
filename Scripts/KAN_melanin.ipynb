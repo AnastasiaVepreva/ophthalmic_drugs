{
 "cells": [
  {
   "cell_type": "code",
   "execution_count": 1,
   "metadata": {},
   "outputs": [],
   "source": [
    "import matplotlib.pyplot as plt\n",
    "import torch\n",
    "import numpy as np\n",
    "import pandas as pd\n",
    "import pickle\n",
    "from sklearn.model_selection import train_test_split\n",
    "import pickle\n",
    "from sklearn.metrics import f1_score, accuracy_score\n",
    "from kan.KAN import KAN\n",
    "import itertools\n",
    "from rdkit import Chem\n",
    "from rdkit.Chem import MACCSkeys"
   ]
  },
  {
   "cell_type": "markdown",
   "metadata": {},
   "source": [
    "## Preparing data"
   ]
  },
  {
   "cell_type": "code",
   "execution_count": 2,
   "metadata": {},
   "outputs": [],
   "source": [
    "df = pd.read_csv('MACCS_melanin_classes.csv')"
   ]
  },
  {
   "cell_type": "code",
   "execution_count": 3,
   "metadata": {},
   "outputs": [],
   "source": [
    "X = np.array(df.iloc[:, 0:166])\n",
    "y = np.array(df['Class'])"
   ]
  },
  {
   "cell_type": "code",
   "execution_count": 4,
   "metadata": {},
   "outputs": [],
   "source": [
    "Xtrain, Xtest, ytrain, ytest = train_test_split(X, y, test_size=0.2, random_state=10)"
   ]
  },
  {
   "cell_type": "markdown",
   "metadata": {},
   "source": [
    "## Train KAN"
   ]
  },
  {
   "cell_type": "code",
   "execution_count": 5,
   "metadata": {},
   "outputs": [],
   "source": [
    "dataset = {} \n",
    "dataset['train_input'] = torch.tensor(Xtrain, dtype=torch.int64) \n",
    "dataset['train_label'] = torch.tensor(ytrain.reshape(-1, 1), dtype=torch.int64) \n",
    "dataset['test_input'] = torch.tensor(Xtest, dtype=torch.int64) \n",
    "dataset['test_label'] = torch.tensor(ytest.reshape(-1, 1), dtype=torch.int64) \n",
    " \n",
    "X = dataset['train_input'] \n",
    "y = dataset['train_label']"
   ]
  },
  {
   "cell_type": "code",
   "execution_count": 9,
   "metadata": {},
   "outputs": [
    {
     "name": "stderr",
     "output_type": "stream",
     "text": [
      "train loss: 4.42e-01 | test loss: 4.71e-01 | reg: 5.98e+00 : 100%|██| 10/10 [00:12<00:00,  1.22s/it]\n"
     ]
    },
    {
     "data": {
      "text/plain": [
       "(0.6971153616905212, 0.6410256624221802)"
      ]
     },
     "execution_count": 9,
     "metadata": {},
     "output_type": "execute_result"
    }
   ],
   "source": [
    "model = KAN(width=[166,1,2], seed=2024)\n",
    "\n",
    "def train_acc(): \n",
    "    return torch.mean((torch.round(model(dataset['train_input'])[:,0]) == dataset['train_label'][:,0]).float()) \n",
    " \n",
    "def test_acc(): \n",
    "    return torch.mean((torch.round(model(dataset['test_input'])[:,0]) == dataset['test_label'][:,0]).float()) \n",
    " \n",
    "results = model.train(dataset, opt=\"LBFGS\", steps=10, metrics=(train_acc, test_acc), lamb = 0.1, lamb_entropy = 0.0) \n",
    "results['train_acc'][-1], results['test_acc'][-1]"
   ]
  },
  {
   "cell_type": "markdown",
   "metadata": {},
   "source": [
    "## Hyperparameter optimization"
   ]
  },
  {
   "cell_type": "code",
   "execution_count": 19,
   "metadata": {},
   "outputs": [
    {
     "name": "stderr",
     "output_type": "stream",
     "text": [
      "train loss: 5.86e-01 | test loss: 5.96e-01 | reg: 7.23e+00 : 100%|██| 10/10 [00:08<00:00,  1.18it/s]\n",
      "train loss: 5.86e-01 | test loss: 5.96e-01 | reg: 7.23e+00 : 100%|██| 10/10 [00:09<00:00,  1.07it/s]\n",
      "train loss: 5.86e-01 | test loss: 5.96e-01 | reg: 7.23e+00 : 100%|██| 10/10 [00:08<00:00,  1.15it/s]\n",
      "train loss: 3.94e-01 | test loss: 4.23e-01 | reg: 3.15e+00 : 100%|██| 10/10 [00:24<00:00,  2.45s/it]\n",
      "train loss: 3.91e-01 | test loss: 4.20e-01 | reg: 3.35e+00 : 100%|██| 10/10 [00:21<00:00,  2.20s/it]\n",
      "train loss: 3.94e-01 | test loss: 4.23e-01 | reg: 3.15e+00 : 100%|██| 10/10 [00:27<00:00,  2.74s/it]\n",
      "train loss: 3.86e-01 | test loss: 4.21e-01 | reg: 1.82e+00 : 100%|██| 10/10 [00:24<00:00,  2.43s/it]\n",
      "train loss: 3.86e-01 | test loss: 4.19e-01 | reg: 2.56e+00 : 100%|██| 10/10 [00:17<00:00,  1.75s/it]\n",
      "train loss: 3.86e-01 | test loss: 4.19e-01 | reg: 2.56e+00 : 100%|██| 10/10 [00:17<00:00,  1.75s/it]"
     ]
    },
    {
     "name": "stdout",
     "output_type": "stream",
     "text": [
      "Best parameters found:\n",
      "{'grid': 5, 'k_val': 2}\n",
      "Best test accuracy: 0.7564102411270142\n"
     ]
    },
    {
     "name": "stderr",
     "output_type": "stream",
     "text": [
      "\n"
     ]
    }
   ],
   "source": [
    "k_values =  [2, 3, 5]\n",
    "grid_values = [1, 5, 10]  \n",
    "\n",
    "best_accuracy = 0\n",
    "best_params = {}\n",
    "\n",
    "for grid_val, k_val in itertools.product(grid_values, k_values):\n",
    "    model = KAN(width=[166,1,2], grid=grid_val, seed=2024)\n",
    "    results = model.train(dataset, opt=\"LBFGS\", steps=10, metrics=(train_acc, test_acc), lamb =  0.1, lamb_entropy = 0.0)\n",
    "    \n",
    "    train_accuracy = results['train_acc'][-1]\n",
    "    test_accuracy = results['test_acc'][-1]\n",
    "    \n",
    "    if test_accuracy > best_accuracy:\n",
    "        best_accuracy = test_accuracy\n",
    "        best_params = {'grid': grid_val, 'k_val': k_val}\n",
    "\n",
    "print(\"Best parameters found:\")\n",
    "print(best_params)\n",
    "print(\"Best test accuracy:\", best_accuracy)"
   ]
  },
  {
   "cell_type": "code",
   "execution_count": 22,
   "metadata": {},
   "outputs": [
    {
     "name": "stderr",
     "output_type": "stream",
     "text": [
      "train loss: 3.84e-01 | test loss: 4.14e-01 | reg: 2.88e+00 : 100%|██| 10/10 [00:16<00:00,  1.64s/it]\n"
     ]
    },
    {
     "data": {
      "text/plain": [
       "(0.7884615659713745, 0.7564102411270142)"
      ]
     },
     "execution_count": 22,
     "metadata": {},
     "output_type": "execute_result"
    }
   ],
   "source": [
    "opt_model = KAN(width=[166,1,2], k=2, grid=5, seed=2024)\n",
    "\n",
    "def train_acc(): \n",
    "    return torch.mean((torch.round(model(dataset['train_input'])[:,0]) == dataset['train_label'][:,0]).float()) \n",
    " \n",
    "def test_acc(): \n",
    "    return torch.mean((torch.round(model(dataset['test_input'])[:,0]) == dataset['test_label'][:,0]).float()) \n",
    " \n",
    "results = opt_model.train(dataset, opt=\"LBFGS\", steps=10, metrics=(train_acc, test_acc), lamb = 0.1, lamb_entropy = 0.0) \n",
    "results['train_acc'][-1], results['test_acc'][-1]"
   ]
  },
  {
   "cell_type": "markdown",
   "metadata": {},
   "source": [
    "## Save model"
   ]
  },
  {
   "cell_type": "code",
   "execution_count": 46,
   "metadata": {},
   "outputs": [],
   "source": [
    "torch.save(model.state_dict(), 'KAN_melanin.pth')"
   ]
  }
 ],
 "metadata": {
  "kernelspec": {
   "display_name": "Python 3",
   "language": "python",
   "name": "python3"
  },
  "language_info": {
   "codemirror_mode": {
    "name": "ipython",
    "version": 3
   },
   "file_extension": ".py",
   "mimetype": "text/x-python",
   "name": "python",
   "nbconvert_exporter": "python",
   "pygments_lexer": "ipython3",
   "version": "3.9.7"
  }
 },
 "nbformat": 4,
 "nbformat_minor": 2
}
